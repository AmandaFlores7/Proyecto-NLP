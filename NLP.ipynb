{
 "cells": [
  {
   "cell_type": "markdown",
   "metadata": {},
   "source": [
    "# Proyecto Diplomado en Inteligencia Artificial\n",
    "\n",
    "Objetivo: Entrenar 2 modelos de Machine Learning y comparar sus resultados. Debe usar al menos 3 configuraciones distintas de parámetros de los modelos y comentar los resultados.\n",
    "\n",
    "Se deben comparar las siguientes medidas de desempeño:\n",
    "\n",
    "- Accuracy\n",
    "- F1-score\n",
    "- ROC-AUC\n",
    "\n",
    "Se deben realizar 10 corridas experimentales y comparar el promedio de estas medidas de desempeño. Particione el conjunto de datos en 80% (entrenamiento) y 20% (prueba).\n",
    "\n",
    "Debe realizar un proceso de pre-procesamiento de los datos. Basese en el notebook: \"1 natural-language-processing-sentiment-analysis.ipynb\".\n",
    "\n"
   ]
  },
  {
   "cell_type": "markdown",
   "metadata": {},
   "source": [
    "## Importaciones"
   ]
  },
  {
   "cell_type": "code",
   "execution_count": 1,
   "metadata": {},
   "outputs": [
    {
     "name": "stderr",
     "output_type": "stream",
     "text": [
      "[nltk_data] Downloading package stopwords to\n",
      "[nltk_data]     /Users/amandaflores/nltk_data...\n",
      "[nltk_data]   Package stopwords is already up-to-date!\n"
     ]
    },
    {
     "data": {
      "text/plain": [
       "True"
      ]
     },
     "execution_count": 1,
     "metadata": {},
     "output_type": "execute_result"
    }
   ],
   "source": [
    "import numpy as np\n",
    "import pandas as pd\n",
    "from sklearn.datasets import fetch_20newsgroups\n",
    "from sklearn.preprocessing import LabelBinarizer\n",
    "from sklearn.ensemble import RandomForestClassifier\n",
    "from sklearn.svm import SVC\n",
    "from sklearn.model_selection import train_test_split\n",
    "from sklearn.metrics import accuracy_score, f1_score, roc_auc_score\n",
    "from sklearn.feature_extraction.text import CountVectorizer\n",
    "import re\n",
    "import nltk\n",
    "from nltk.corpus import stopwords\n",
    "from nltk.stem.porter import PorterStemmer\n",
    "nltk.download('stopwords')"
   ]
  },
  {
   "cell_type": "markdown",
   "metadata": {},
   "source": [
    "## Cargar datos"
   ]
  },
  {
   "cell_type": "code",
   "execution_count": 2,
   "metadata": {},
   "outputs": [],
   "source": [
    "newsgroups_data = fetch_20newsgroups()"
   ]
  },
  {
   "cell_type": "markdown",
   "metadata": {},
   "source": [
    "## Mostrar ejemplo"
   ]
  },
  {
   "cell_type": "code",
   "execution_count": 3,
   "metadata": {},
   "outputs": [
    {
     "name": "stdout",
     "output_type": "stream",
     "text": [
      "Texto:  From: lerxst@wam.umd.edu (where's my thing)\n",
      "Subject: WHAT car is this!?\n",
      "Nntp-Posting-Host: rac3.wam.umd.edu\n",
      "Organization: University of Maryland, College Park\n",
      "Lines: 15\n",
      "\n",
      " I was wondering if anyone out there could enlighten me on this car I saw\n",
      "the other day. It was a 2-door sports car, looked to be from the late 60s/\n",
      "early 70s. It was called a Bricklin. The doors were really small. In addition,\n",
      "the front bumper was separate from the rest of the body. This is \n",
      "all I know. If anyone can tellme a model name, engine specs, years\n",
      "of production, where this car is made, history, or whatever info you\n",
      "have on this funky looking car, please e-mail.\n",
      "\n",
      "Thanks,\n",
      "- IL\n",
      "   ---- brought to you by your neighborhood Lerxst ----\n",
      "\n",
      "\n",
      "\n",
      "\n",
      "\n",
      "Etiqueta (texto):  alt.atheism\n",
      "Etiqueta (número}):  7\n"
     ]
    }
   ],
   "source": [
    "print(\"Texto: \",newsgroups_data.data[0])\n",
    "print(\"Etiqueta (texto): \",newsgroups_data.target_names[0])\n",
    "print(\"Etiqueta (número}): \",newsgroups_data.target[0])"
   ]
  },
  {
   "cell_type": "markdown",
   "metadata": {},
   "source": [
    "## Etiquetas con su correspondiente nombre"
   ]
  },
  {
   "cell_type": "code",
   "execution_count": 4,
   "metadata": {},
   "outputs": [
    {
     "name": "stdout",
     "output_type": "stream",
     "text": [
      "Número:  0 Categoria:  alt.atheism\n",
      "Número:  1 Categoria:  comp.graphics\n",
      "Número:  2 Categoria:  comp.os.ms-windows.misc\n",
      "Número:  3 Categoria:  comp.sys.ibm.pc.hardware\n",
      "Número:  4 Categoria:  comp.sys.mac.hardware\n",
      "Número:  5 Categoria:  comp.windows.x\n",
      "Número:  6 Categoria:  misc.forsale\n",
      "Número:  7 Categoria:  rec.autos\n",
      "Número:  8 Categoria:  rec.motorcycles\n",
      "Número:  9 Categoria:  rec.sport.baseball\n",
      "Número:  10 Categoria:  rec.sport.hockey\n",
      "Número:  11 Categoria:  sci.crypt\n",
      "Número:  12 Categoria:  sci.electronics\n",
      "Número:  13 Categoria:  sci.med\n",
      "Número:  14 Categoria:  sci.space\n",
      "Número:  15 Categoria:  soc.religion.christian\n",
      "Número:  16 Categoria:  talk.politics.guns\n",
      "Número:  17 Categoria:  talk.politics.mideast\n",
      "Número:  18 Categoria:  talk.politics.misc\n",
      "Número:  19 Categoria:  talk.religion.misc\n"
     ]
    }
   ],
   "source": [
    "for idx, cat in enumerate(newsgroups_data.target_names):\n",
    "    print(\"Número: \",idx,\"Categoria: \", cat)"
   ]
  },
  {
   "cell_type": "markdown",
   "metadata": {},
   "source": [
    "## Preprocesamiento de Datos"
   ]
  },
  {
   "cell_type": "code",
   "execution_count": 5,
   "metadata": {},
   "outputs": [],
   "source": [
    "corpus=[]\n",
    "for i in range(0,11314):\n",
    "    review = re.sub('[^a-zA-Z]', ' ', newsgroups_data.data[i] )\n",
    "    review=review.lower()\n",
    "    review=review.split()\n",
    "    ps=PorterStemmer()\n",
    "    review = [\n",
    "        ps.stem(word)\n",
    "        for word in review\n",
    "        if word not in set(stopwords.words('english'))\n",
    "    ]\n",
    "    review=' '.join(review)\n",
    "    corpus.append(review)"
   ]
  },
  {
   "cell_type": "code",
   "execution_count": 6,
   "metadata": {},
   "outputs": [
    {
     "data": {
      "text/html": [
       "<div>\n",
       "<style scoped>\n",
       "    .dataframe tbody tr th:only-of-type {\n",
       "        vertical-align: middle;\n",
       "    }\n",
       "\n",
       "    .dataframe tbody tr th {\n",
       "        vertical-align: top;\n",
       "    }\n",
       "\n",
       "    .dataframe thead th {\n",
       "        text-align: right;\n",
       "    }\n",
       "</style>\n",
       "<table border=\"1\" class=\"dataframe\">\n",
       "  <thead>\n",
       "    <tr style=\"text-align: right;\">\n",
       "      <th></th>\n",
       "      <th>0</th>\n",
       "    </tr>\n",
       "  </thead>\n",
       "  <tbody>\n",
       "    <tr>\n",
       "      <th>0</th>\n",
       "      <td>lerxst wam umd edu thing subject car nntp post...</td>\n",
       "    </tr>\n",
       "    <tr>\n",
       "      <th>1</th>\n",
       "      <td>guykuo carson u washington edu guy kuo subject...</td>\n",
       "    </tr>\n",
       "    <tr>\n",
       "      <th>2</th>\n",
       "      <td>twilli ec ecn purdu edu thoma e willi subject ...</td>\n",
       "    </tr>\n",
       "    <tr>\n",
       "      <th>3</th>\n",
       "      <td>jgreen amber joe green subject weitek p organ ...</td>\n",
       "    </tr>\n",
       "    <tr>\n",
       "      <th>4</th>\n",
       "      <td>jcm head cfa harvard edu jonathan mcdowel subj...</td>\n",
       "    </tr>\n",
       "  </tbody>\n",
       "</table>\n",
       "</div>"
      ],
      "text/plain": [
       "                                                   0\n",
       "0  lerxst wam umd edu thing subject car nntp post...\n",
       "1  guykuo carson u washington edu guy kuo subject...\n",
       "2  twilli ec ecn purdu edu thoma e willi subject ...\n",
       "3  jgreen amber joe green subject weitek p organ ...\n",
       "4  jcm head cfa harvard edu jonathan mcdowel subj..."
      ]
     },
     "execution_count": 6,
     "metadata": {},
     "output_type": "execute_result"
    }
   ],
   "source": [
    "pd.DataFrame(corpus).head()"
   ]
  },
  {
   "cell_type": "code",
   "execution_count": 7,
   "metadata": {},
   "outputs": [],
   "source": [
    "cv=CountVectorizer(max_features=1500)\n",
    "X=cv.fit_transform(corpus).toarray()"
   ]
  },
  {
   "cell_type": "code",
   "execution_count": 8,
   "metadata": {},
   "outputs": [
    {
     "name": "stdout",
     "output_type": "stream",
     "text": [
      "['aa' 'ab' 'abil' ... 'yet' 'york' 'young']\n",
      "[0 0 0 ... 0 0 0]\n"
     ]
    }
   ],
   "source": [
    "print(cv.get_feature_names_out())\n",
    "print(X[0])"
   ]
  },
  {
   "cell_type": "code",
   "execution_count": 9,
   "metadata": {},
   "outputs": [
    {
     "name": "stdout",
     "output_type": "stream",
     "text": [
      "[[0 0 0 ... 0 0 0]\n",
      " [0 0 0 ... 0 0 0]\n",
      " [0 0 0 ... 0 0 0]\n",
      " ...\n",
      " [0 0 0 ... 1 0 0]\n",
      " [0 0 0 ... 0 0 0]\n",
      " [0 0 0 ... 0 0 0]]\n"
     ]
    }
   ],
   "source": [
    "print(X)"
   ]
  },
  {
   "cell_type": "code",
   "execution_count": 10,
   "metadata": {},
   "outputs": [
    {
     "name": "stdout",
     "output_type": "stream",
     "text": [
      "[7 4 4 ... 3 1 8]\n"
     ]
    }
   ],
   "source": [
    "Y = newsgroups_data.target\n",
    "print(Y)"
   ]
  },
  {
   "cell_type": "code",
   "execution_count": 11,
   "metadata": {},
   "outputs": [
    {
     "name": "stdout",
     "output_type": "stream",
     "text": [
      "[[0 0 0 ... 0 0 0]\n",
      " [0 0 0 ... 0 0 0]\n",
      " [0 0 0 ... 0 0 0]\n",
      " ...\n",
      " [0 0 0 ... 0 0 0]\n",
      " [0 1 0 ... 0 0 0]\n",
      " [0 0 0 ... 0 0 0]]\n"
     ]
    }
   ],
   "source": [
    "encoder = LabelBinarizer()\n",
    "y_encoder = encoder.fit_transform(Y)\n",
    "print(y_encoder)"
   ]
  },
  {
   "cell_type": "markdown",
   "metadata": {},
   "source": [
    "## Clasificación"
   ]
  },
  {
   "cell_type": "markdown",
   "metadata": {},
   "source": [
    "### Random Forest Model"
   ]
  },
  {
   "cell_type": "code",
   "execution_count": 12,
   "metadata": {},
   "outputs": [],
   "source": [
    "classifier_RF_1 = RandomForestClassifier(n_estimators = 10, criterion = 'entropy', random_state = 0)\n",
    "classifier_RF_2 = RandomForestClassifier(n_estimators = 10, criterion = 'gini', random_state = 0)\n",
    "classifier_RF_3 = RandomForestClassifier(n_estimators = 10, criterion = 'log_loss', random_state = 0)"
   ]
  },
  {
   "cell_type": "code",
   "execution_count": 13,
   "metadata": {},
   "outputs": [],
   "source": [
    "def calculate_metrics_rf(y_true, y_pred):\n",
    "    return [\n",
    "        accuracy_score(y_true, y_pred),\n",
    "        roc_auc_score(y_true, y_pred),\n",
    "        f1_score(y_true, y_pred, average='macro')\n",
    "    ]"
   ]
  },
  {
   "cell_type": "code",
   "execution_count": 14,
   "metadata": {},
   "outputs": [
    {
     "name": "stdout",
     "output_type": "stream",
     "text": [
      "Experimento: 0\n",
      "Experimento: 1\n",
      "Experimento: 2\n",
      "Experimento: 3\n",
      "Experimento: 4\n",
      "Experimento: 5\n",
      "Experimento: 6\n",
      "Experimento: 7\n",
      "Experimento: 8\n",
      "Experimento: 9\n"
     ]
    }
   ],
   "source": [
    "# Inicializar listas\n",
    "data_ac_rf = []\n",
    "data_roc_rf = []\n",
    "data_f1_rf = []\n",
    "\n",
    "# Realizar experimentos\n",
    "for i in range(10):\n",
    "    print(\"Experimento:\", i)\n",
    "    \n",
    "    # Dividir datos\n",
    "    X_train, X_test, y_train, y_test = train_test_split(X, y_encoder, test_size=0.2, shuffle=True, stratify=Y)\n",
    "    \n",
    "    # Entrenar modelos\n",
    "    for model in [classifier_RF_1, classifier_RF_2, classifier_RF_3]:\n",
    "        model.fit(X_train, y_train)\n",
    "        \n",
    "    # Predecir y calcular métricas\n",
    "    metrics_ac = [calculate_metrics_rf(y_test, model.predict(X_test)) for model in [classifier_RF_1, classifier_RF_2, classifier_RF_3]]\n",
    "    \n",
    "    # Apilar los valores de métricas en listas\n",
    "    data_ac_rf.append([metric[0] for metric in metrics_ac])\n",
    "    data_roc_rf.append([metric[1] for metric in metrics_ac])\n",
    "    data_f1_rf.append([metric[2] for metric in metrics_ac])"
   ]
  },
  {
   "cell_type": "code",
   "execution_count": 15,
   "metadata": {},
   "outputs": [
    {
     "name": "stdout",
     "output_type": "stream",
     "text": [
      "Clasificación 1: \n",
      "Accuracy: 0.2799381352187362\n",
      "ROC AUC: 0.6365531862402306\n",
      "F1: 0.39685617607224155\n",
      "----------------------------------------------------------------\n",
      "Clasificación 2: \n",
      "Accuracy: 0.4539991162174105\n",
      "ROC AUC: 0.7221320847494123\n",
      "F1: 0.5827773811243245\n",
      "----------------------------------------------------------------\n",
      "Clasificación 3: \n",
      "Accuracy: 0.2799381352187362\n",
      "ROC AUC: 0.6365531862402306\n",
      "F1: 0.39685617607224155\n",
      "----------------------------------------------------------------\n"
     ]
    }
   ],
   "source": [
    "metrics_names = ['Accuracy', 'ROC AUC', 'F1']\n",
    "for i in range(3):\n",
    "    print(f\"Clasificación {i + 1}: \")\n",
    "    print(f\"{metrics_names[0]}: {np.mean(np.array(data_ac_rf)[:, i])}\")\n",
    "    print(f\"{metrics_names[1]}: {np.mean(np.array(data_roc_rf)[:, i])}\")\n",
    "    print(f\"{metrics_names[2]}: {np.mean(np.array(data_f1_rf)[:, i])}\")\n",
    "    print(\"----------------------------------------------------------------\")"
   ]
  },
  {
   "cell_type": "markdown",
   "metadata": {},
   "source": [
    "### SVC"
   ]
  },
  {
   "cell_type": "code",
   "execution_count": 22,
   "metadata": {},
   "outputs": [
    {
     "name": "stdout",
     "output_type": "stream",
     "text": [
      "Splitting data into train and test...\n",
      "Training the model...\n",
      "Predicting test data...\n"
     ]
    }
   ],
   "source": [
    "svm_classifier = SVC(kernel=\"poly\", probability=True)\n",
    "\n",
    "# split the data into train and test\n",
    "print(\"Splitting data into train and test...\")\n",
    "X_train, X_test, y_train, y_test = train_test_split(X, Y, test_size=0.2, shuffle=True, stratify=Y)\n",
    "\n",
    "# train the model\n",
    "print(\"Training the model...\")\n",
    "svm_classifier.fit(X_train, y_train)\n",
    "\n",
    "# predict the test data\n",
    "print(\"Predicting test data...\")\n",
    "y_pred = svm_classifier.predict(X_test)\n",
    "y_pred_proba = svm_classifier.predict_proba(X_test)"
   ]
  },
  {
   "cell_type": "code",
   "execution_count": 23,
   "metadata": {},
   "outputs": [
    {
     "name": "stdout",
     "output_type": "stream",
     "text": [
      "Accuracy:  0.05567830313742819\n",
      "ROC AUC:  0.6479153645050738\n",
      "F1:  0.010078465855756396\n"
     ]
    }
   ],
   "source": [
    "# calculate the metrics\n",
    "print(\"Accuracy: \", accuracy_score(y_test, y_pred))\n",
    "print(\"ROC AUC: \", roc_auc_score(y_test, y_pred_proba, multi_class='ovr'))\n",
    "print(\"F1: \", f1_score(y_test, y_pred, average='macro'))"
   ]
  },
  {
   "cell_type": "code",
   "execution_count": 24,
   "metadata": {},
   "outputs": [],
   "source": [
    "def calculate_metrics_svm(y_true, y_pred, y_pred_proba):\n",
    "    return [\n",
    "        accuracy_score(y_true, y_pred),\n",
    "        roc_auc_score(y_true, y_pred_proba, multi_class='ovr'),\n",
    "        f1_score(y_true, y_pred, average='macro')\n",
    "    ]"
   ]
  },
  {
   "cell_type": "code",
   "execution_count": 25,
   "metadata": {},
   "outputs": [
    {
     "name": "stdout",
     "output_type": "stream",
     "text": [
      "Creating SVM models...\n",
      "Experimento  0\n"
     ]
    },
    {
     "name": "stdout",
     "output_type": "stream",
     "text": [
      "Experimento  1\n",
      "Experimento  2\n",
      "Experimento  3\n",
      "Experimento  4\n",
      "Experimento  5\n",
      "Experimento  6\n",
      "Experimento  7\n",
      "Experimento  8\n",
      "Experimento  9\n"
     ]
    }
   ],
   "source": [
    "print(\"Creating SVM models...\")\n",
    "svm_classifier_1 = SVC(kernel=\"linear\", probability=True)\n",
    "svm_classifier_2 = SVC(kernel=\"poly\", probability=True)\n",
    "svm_classifier_3 = SVC(kernel=\"rbf\", probability=True)\n",
    "\n",
    "data_ac_svc = []\n",
    "data_roc_svc = []\n",
    "data_f1_svc = []\n",
    "\n",
    "for i in range(10):\n",
    "    print(\"Experimento \", i)\n",
    "    # Splitting the dataset into the Training set and Test set\n",
    "    X_train, X_test, y_train, y_test = train_test_split(\n",
    "        X, Y, test_size=0.20, random_state=0, shuffle=True, stratify=Y\n",
    "    )\n",
    "    \n",
    "    # Entrenar modelos\n",
    "    for model in [svm_classifier_1, svm_classifier_2, svm_classifier_3]:\n",
    "        model.fit(X_train, y_train)\n",
    "        \n",
    "    y_pred = svm_classifier.predict(X_test)\n",
    "    y_pred_proba = svm_classifier.predict_proba(X_test)\n",
    "    \n",
    "    # Predecir y calcular métricas\n",
    "    metrics_ac = [calculate_metrics_svm(y_test, model.predict(X_test), model.predict_proba(X_test)) for model in [svm_classifier_1, svm_classifier_2, svm_classifier_3]]\n",
    "    \n",
    "    # Apilar los valores de métricas en listas\n",
    "    data_ac_svc.append([metric[0] for metric in metrics_ac])\n",
    "    data_roc_svc.append([metric[1] for metric in metrics_ac])\n",
    "    data_f1_svc.append([metric[2] for metric in metrics_ac])"
   ]
  },
  {
   "cell_type": "code",
   "execution_count": 26,
   "metadata": {},
   "outputs": [
    {
     "name": "stdout",
     "output_type": "stream",
     "text": [
      "Clasificación 1: \n",
      "Accuracy: 0.7737516570923553\n",
      "ROC AUC: 0.9772969999285444\n",
      "F1: 0.7736878077011224\n",
      "----------------------------------------------------------------\n",
      "Clasificación 2: \n",
      "Accuracy: 0.0547945205479452\n",
      "ROC AUC: 0.677166160670134\n",
      "F1: 0.008356808367985715\n",
      "----------------------------------------------------------------\n",
      "Clasificación 3: \n",
      "Accuracy: 0.09765797613787008\n",
      "ROC AUC: 0.8920814775504983\n",
      "F1: 0.08153138279597036\n",
      "----------------------------------------------------------------\n"
     ]
    }
   ],
   "source": [
    "metrics_names = ['Accuracy', 'ROC AUC', 'F1']\n",
    "for i in range(3):\n",
    "    print(f\"Clasificación {i + 1}: \")\n",
    "    print(f\"{metrics_names[0]}: {np.mean(np.array(data_ac_svc)[:, i])}\")\n",
    "    print(f\"{metrics_names[1]}: {np.mean(np.array(data_roc_svc)[:, i])}\")\n",
    "    print(f\"{metrics_names[2]}: {np.mean(np.array(data_f1_svc)[:, i])}\")\n",
    "    print(\"----------------------------------------------------------------\")"
   ]
  }
 ],
 "metadata": {
  "kernelspec": {
   "display_name": "py_3_10",
   "language": "python",
   "name": "python3"
  },
  "language_info": {
   "codemirror_mode": {
    "name": "ipython",
    "version": 3
   },
   "file_extension": ".py",
   "mimetype": "text/x-python",
   "name": "python",
   "nbconvert_exporter": "python",
   "pygments_lexer": "ipython3",
   "version": "3.10.11"
  }
 },
 "nbformat": 4,
 "nbformat_minor": 2
}
